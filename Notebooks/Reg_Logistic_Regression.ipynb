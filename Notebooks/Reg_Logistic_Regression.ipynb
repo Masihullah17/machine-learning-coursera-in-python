{
  "nbformat": 4,
  "nbformat_minor": 0,
  "metadata": {
    "colab": {
      "name": "Reg_Logistic_Regression.ipynb",
      "version": "0.3.2",
      "provenance": [],
      "collapsed_sections": []
    },
    "kernelspec": {
      "name": "python3",
      "display_name": "Python 3"
    },
    "accelerator": "GPU"
  },
  "cells": [
    {
      "metadata": {
        "id": "WmoJvFCpstA8",
        "colab_type": "code",
        "colab": {
          "base_uri": "https://localhost:8080/",
          "height": 204
        },
        "outputId": "e5536787-a24e-45eb-8689-9f824ede5da0"
      },
      "cell_type": "code",
      "source": [
        "import numpy as np\n",
        "import pandas as pd\n",
        "import matplotlib.pyplot as plt\n",
        "\n",
        "df=pd.read_csv(\"ex2data2.txt\", header=None)\n",
        "df.head()"
      ],
      "execution_count": 15,
      "outputs": [
        {
          "output_type": "execute_result",
          "data": {
            "text/html": [
              "<div>\n",
              "<style scoped>\n",
              "    .dataframe tbody tr th:only-of-type {\n",
              "        vertical-align: middle;\n",
              "    }\n",
              "\n",
              "    .dataframe tbody tr th {\n",
              "        vertical-align: top;\n",
              "    }\n",
              "\n",
              "    .dataframe thead th {\n",
              "        text-align: right;\n",
              "    }\n",
              "</style>\n",
              "<table border=\"1\" class=\"dataframe\">\n",
              "  <thead>\n",
              "    <tr style=\"text-align: right;\">\n",
              "      <th></th>\n",
              "      <th>0</th>\n",
              "      <th>1</th>\n",
              "      <th>2</th>\n",
              "    </tr>\n",
              "  </thead>\n",
              "  <tbody>\n",
              "    <tr>\n",
              "      <th>0</th>\n",
              "      <td>0.051267</td>\n",
              "      <td>0.69956</td>\n",
              "      <td>1</td>\n",
              "    </tr>\n",
              "    <tr>\n",
              "      <th>1</th>\n",
              "      <td>-0.092742</td>\n",
              "      <td>0.68494</td>\n",
              "      <td>1</td>\n",
              "    </tr>\n",
              "    <tr>\n",
              "      <th>2</th>\n",
              "      <td>-0.213710</td>\n",
              "      <td>0.69225</td>\n",
              "      <td>1</td>\n",
              "    </tr>\n",
              "    <tr>\n",
              "      <th>3</th>\n",
              "      <td>-0.375000</td>\n",
              "      <td>0.50219</td>\n",
              "      <td>1</td>\n",
              "    </tr>\n",
              "    <tr>\n",
              "      <th>4</th>\n",
              "      <td>-0.513250</td>\n",
              "      <td>0.46564</td>\n",
              "      <td>1</td>\n",
              "    </tr>\n",
              "  </tbody>\n",
              "</table>\n",
              "</div>"
            ],
            "text/plain": [
              "          0        1  2\n",
              "0  0.051267  0.69956  1\n",
              "1 -0.092742  0.68494  1\n",
              "2 -0.213710  0.69225  1\n",
              "3 -0.375000  0.50219  1\n",
              "4 -0.513250  0.46564  1"
            ]
          },
          "metadata": {
            "tags": []
          },
          "execution_count": 15
        }
      ]
    },
    {
      "metadata": {
        "id": "5katnDZ7vD-n",
        "colab_type": "code",
        "colab": {
          "base_uri": "https://localhost:8080/",
          "height": 297
        },
        "outputId": "30569bed-7d82-4b52-a083-7d2c16009f33"
      },
      "cell_type": "code",
      "source": [
        "df.describe()"
      ],
      "execution_count": 16,
      "outputs": [
        {
          "output_type": "execute_result",
          "data": {
            "text/html": [
              "<div>\n",
              "<style scoped>\n",
              "    .dataframe tbody tr th:only-of-type {\n",
              "        vertical-align: middle;\n",
              "    }\n",
              "\n",
              "    .dataframe tbody tr th {\n",
              "        vertical-align: top;\n",
              "    }\n",
              "\n",
              "    .dataframe thead th {\n",
              "        text-align: right;\n",
              "    }\n",
              "</style>\n",
              "<table border=\"1\" class=\"dataframe\">\n",
              "  <thead>\n",
              "    <tr style=\"text-align: right;\">\n",
              "      <th></th>\n",
              "      <th>0</th>\n",
              "      <th>1</th>\n",
              "      <th>2</th>\n",
              "    </tr>\n",
              "  </thead>\n",
              "  <tbody>\n",
              "    <tr>\n",
              "      <th>count</th>\n",
              "      <td>118.000000</td>\n",
              "      <td>118.000000</td>\n",
              "      <td>118.000000</td>\n",
              "    </tr>\n",
              "    <tr>\n",
              "      <th>mean</th>\n",
              "      <td>0.054779</td>\n",
              "      <td>0.183102</td>\n",
              "      <td>0.491525</td>\n",
              "    </tr>\n",
              "    <tr>\n",
              "      <th>std</th>\n",
              "      <td>0.496654</td>\n",
              "      <td>0.519743</td>\n",
              "      <td>0.502060</td>\n",
              "    </tr>\n",
              "    <tr>\n",
              "      <th>min</th>\n",
              "      <td>-0.830070</td>\n",
              "      <td>-0.769740</td>\n",
              "      <td>0.000000</td>\n",
              "    </tr>\n",
              "    <tr>\n",
              "      <th>25%</th>\n",
              "      <td>-0.372120</td>\n",
              "      <td>-0.254385</td>\n",
              "      <td>0.000000</td>\n",
              "    </tr>\n",
              "    <tr>\n",
              "      <th>50%</th>\n",
              "      <td>-0.006336</td>\n",
              "      <td>0.213455</td>\n",
              "      <td>0.000000</td>\n",
              "    </tr>\n",
              "    <tr>\n",
              "      <th>75%</th>\n",
              "      <td>0.478970</td>\n",
              "      <td>0.646562</td>\n",
              "      <td>1.000000</td>\n",
              "    </tr>\n",
              "    <tr>\n",
              "      <th>max</th>\n",
              "      <td>1.070900</td>\n",
              "      <td>1.108900</td>\n",
              "      <td>1.000000</td>\n",
              "    </tr>\n",
              "  </tbody>\n",
              "</table>\n",
              "</div>"
            ],
            "text/plain": [
              "                0           1           2\n",
              "count  118.000000  118.000000  118.000000\n",
              "mean     0.054779    0.183102    0.491525\n",
              "std      0.496654    0.519743    0.502060\n",
              "min     -0.830070   -0.769740    0.000000\n",
              "25%     -0.372120   -0.254385    0.000000\n",
              "50%     -0.006336    0.213455    0.000000\n",
              "75%      0.478970    0.646562    1.000000\n",
              "max      1.070900    1.108900    1.000000"
            ]
          },
          "metadata": {
            "tags": []
          },
          "execution_count": 16
        }
      ]
    },
    {
      "metadata": {
        "id": "tcud2VJOvJok",
        "colab_type": "code",
        "colab": {}
      },
      "cell_type": "code",
      "source": [
        "X=df.iloc[:,:-1].values\n",
        "y=df.iloc[:,-1].values"
      ],
      "execution_count": 0,
      "outputs": []
    },
    {
      "metadata": {
        "id": "Wa7wnV44ve6l",
        "colab_type": "code",
        "colab": {
          "base_uri": "https://localhost:8080/",
          "height": 378
        },
        "outputId": "637b14d2-caa8-4e12-b7f8-4883971f5193"
      },
      "cell_type": "code",
      "source": [
        "pos , neg = (y==1).reshape(118,1) , (y==0).reshape(118,1)\n",
        "plt.scatter(X[pos[:,0],0],X[pos[:,0],1],c=\"r\",marker=\"+\")\n",
        "plt.scatter(X[neg[:,0],0],X[neg[:,0],1],marker=\"o\",s=10)\n",
        "plt.xlabel(\"Test 1\")\n",
        "plt.ylabel(\"Test 2\")\n",
        "plt.legend([\"Accepted\",\"Rejected\"],loc=0)"
      ],
      "execution_count": 18,
      "outputs": [
        {
          "output_type": "execute_result",
          "data": {
            "text/plain": [
              "<matplotlib.legend.Legend at 0x7ff90467cba8>"
            ]
          },
          "metadata": {
            "tags": []
          },
          "execution_count": 18
        },
        {
          "output_type": "display_data",
          "data": {
            "image/png": "[encoded data removed]",
            "text/plain": [
              "<Figure size 576x396 with 1 Axes>"
            ]
          },
          "metadata": {
            "tags": []
          }
        }
      ]
    },
    {
      "metadata": {
        "id": "uYKVLc-8vjMk",
        "colab_type": "code",
        "colab": {}
      },
      "cell_type": "code",
      "source": [
        "def mapFeature(x1,x2,degree):\n",
        "    out = np.ones(len(x1)).reshape(len(x1),1)\n",
        "    for i in range(1,degree+1):\n",
        "        for j in range(i+1):\n",
        "            terms= (x1**(i-j) * x2**j).reshape(len(x1),1)\n",
        "            out= np.hstack((out,terms)) #hstack means adding new column\n",
        "    return out"
      ],
      "execution_count": 0,
      "outputs": []
    },
    {
      "metadata": {
        "id": "xauKv0S0v7Qj",
        "colab_type": "code",
        "colab": {}
      },
      "cell_type": "code",
      "source": [
        "X = mapFeature(X[:,0],X[:,1],6)"
      ],
      "execution_count": 0,
      "outputs": []
    },
    {
      "metadata": {
        "id": "WGDtsM7bwDqA",
        "colab_type": "code",
        "colab": {}
      },
      "cell_type": "code",
      "source": [
        "def sigmoid(z):\n",
        "    return 1/ (1 + np.exp(-z))"
      ],
      "execution_count": 0,
      "outputs": []
    },
    {
      "metadata": {
        "id": "HCiILgeTwHuH",
        "colab_type": "code",
        "colab": {}
      },
      "cell_type": "code",
      "source": [
        "def costFunctionReg(theta,X,y,Lambda):\n",
        "  m = len(y)\n",
        "  y = y[:,np.newaxis]\n",
        "  predictions = sigmoid(X @ theta)  # @ = np.dot()\n",
        "  error = (-y * np.log(predictions)) - ((1-y)*np.log(1-predictions))\n",
        "  cost = 1/m * sum(error)\n",
        "  regCost = cost + Lambda/(2*m) * sum(theta**2)\n",
        "  \n",
        "  j_0= 1/m * (X.transpose() @ (predictions - y))[0]\n",
        "  j_1 = 1/m * (X.transpose() @ (predictions - y))[1:] + (Lambda/m)* theta[1:]\n",
        "  grad= np.vstack((j_0[:,np.newaxis],j_1)) #newaxis = .reshape() , vstack = adding new row\n",
        "  return regCost[0], grad"
      ],
      "execution_count": 0,
      "outputs": []
    },
    {
      "metadata": {
        "id": "X3J3UQGVxUcZ",
        "colab_type": "code",
        "colab": {
          "base_uri": "https://localhost:8080/",
          "height": 34
        },
        "outputId": "a1640bd0-a558-4c79-b129-e761d1ff5d4a"
      },
      "cell_type": "code",
      "source": [
        "# Initialize fitting parameters\n",
        "initial_theta = np.zeros((X.shape[1], 1))\n",
        "\n",
        "# Set regularization parameter lambda to 1\n",
        "Lambda = 1\n",
        "\n",
        "#Compute and display initial cost and gradient for regularized logistic regression\n",
        "cost, grad=costFunctionReg(initial_theta, X, y, Lambda)\n",
        "\n",
        "print(\"Cost at initial theta (zeros):\",cost)"
      ],
      "execution_count": 25,
      "outputs": [
        {
          "output_type": "stream",
          "text": [
            "Cost at initial theta (zeros): 0.6931471805599461\n"
          ],
          "name": "stdout"
        }
      ]
    },
    {
      "metadata": {
        "id": "q0v6IqmxzepT",
        "colab_type": "code",
        "colab": {}
      },
      "cell_type": "code",
      "source": [
        "def gradientDescent(X,y,theta,alpha,num_iters,Lambda):\n",
        "    m=len(y)\n",
        "    J_history =[]\n",
        "    \n",
        "    for i in range(num_iters):\n",
        "        cost, grad = costFunctionReg(theta,X,y,Lambda)\n",
        "        theta = theta - (alpha * grad)\n",
        "        J_history.append(cost)\n",
        "    \n",
        "    return theta , J_history"
      ],
      "execution_count": 0,
      "outputs": []
    },
    {
      "metadata": {
        "id": "ePYxbeUKzuXe",
        "colab_type": "code",
        "colab": {
          "base_uri": "https://localhost:8080/",
          "height": 510
        },
        "outputId": "6694067a-0df7-4ce9-98e4-d65f9f665c37"
      },
      "cell_type": "code",
      "source": [
        "\n",
        "theta , J_history = gradientDescent(X,y,initial_theta,1,800,0.2)\n",
        "print(\"The regularized theta using ridge regression:\\n\",theta)"
      ],
      "execution_count": 27,
      "outputs": [
        {
          "output_type": "stream",
          "text": [
            "The regularized theta using ridge regression:\n",
            " [[ 2.25319932]\n",
            " [ 1.44552306]\n",
            " [ 2.33283911]\n",
            " [-3.57008233]\n",
            " [-2.35002884]\n",
            " [-3.07090829]\n",
            " [ 0.50119267]\n",
            " [-0.88407626]\n",
            " [-0.69606495]\n",
            " [-0.22204243]\n",
            " [-2.69560917]\n",
            " [ 0.04161168]\n",
            " [-1.31573798]\n",
            " [-0.80286232]\n",
            " [-2.23101395]\n",
            " [-0.39638083]\n",
            " [-0.43758167]\n",
            " [ 0.09476652]\n",
            " [-0.69300577]\n",
            " [-0.78996079]\n",
            " [-0.45416815]\n",
            " [-2.01051679]\n",
            " [ 0.16446857]\n",
            " [-0.59855483]\n",
            " [ 0.11471778]\n",
            " [-0.73960173]\n",
            " [-0.52044034]\n",
            " [-1.38532427]]\n"
          ],
          "name": "stdout"
        }
      ]
    },
    {
      "metadata": {
        "id": "yzEm4fvt2c0N",
        "colab_type": "code",
        "colab": {
          "base_uri": "https://localhost:8080/",
          "height": 393
        },
        "outputId": "2322abcc-6d8a-425c-994b-074fa50d832f"
      },
      "cell_type": "code",
      "source": [
        "plt.plot(J_history)\n",
        "plt.xlabel(\"Iteration\")\n",
        "plt.ylabel(\"$J(\\Theta)$\")\n",
        "plt.title(\"Cost function using Gradient Descent\")"
      ],
      "execution_count": 29,
      "outputs": [
        {
          "output_type": "execute_result",
          "data": {
            "text/plain": [
              "Text(0.5, 1.0, 'Cost function using Gradient Descent')"
            ]
          },
          "metadata": {
            "tags": []
          },
          "execution_count": 29
        },
        {
          "output_type": "display_data",
          "data": {
            "image/png": "[encoded data removed]",
            "text/plain": [
              "<Figure size 576x396 with 1 Axes>"
            ]
          },
          "metadata": {
            "tags": []
          }
        }
      ]
    },
    {
      "metadata": {
        "id": "LtT1D-sl2xWt",
        "colab_type": "code",
        "colab": {}
      },
      "cell_type": "code",
      "source": [
        "def mapFeaturePlot(x1,x2,degree):\n",
        "    out = np.ones(1)\n",
        "    for i in range(1,degree+1):\n",
        "        for j in range(i+1):\n",
        "            terms= (x1**(i-j) * x2**j)\n",
        "            out= np.hstack((out,terms))\n",
        "    return out\n"
      ],
      "execution_count": 0,
      "outputs": []
    },
    {
      "metadata": {
        "id": "Kq38cga73t-x",
        "colab_type": "code",
        "colab": {
          "base_uri": "https://localhost:8080/",
          "height": 382
        },
        "outputId": "49d31d2e-ee64-4c70-ff76-30f3f76d7b35"
      },
      "cell_type": "code",
      "source": [
        "plt.scatter(X[pos[:,0],1],X[pos[:,0],2],c=\"r\",marker=\"+\",label=\"Admitted\")\n",
        "plt.scatter(X[neg[:,0],1],X[neg[:,0],2],c=\"b\",marker=\"x\",label=\"Not admitted\")\n",
        "# Plotting decision boundary\n",
        "u_vals = np.linspace(-1,1.5,50)\n",
        "v_vals= np.linspace(-1,1.5,50)\n",
        "z=np.zeros((len(u_vals),len(v_vals)))\n",
        "for i in range(len(u_vals)):\n",
        "    for j in range(len(v_vals)):\n",
        "        z[i,j] =mapFeaturePlot(u_vals[i],v_vals[j],6) @ theta\n",
        "plt.contour(u_vals,v_vals,z.T,0)\n",
        "plt.xlabel(\"Exam 1 score\")\n",
        "plt.ylabel(\"Exam 2 score\")\n",
        "plt.legend(loc=0)"
      ],
      "execution_count": 37,
      "outputs": [
        {
          "output_type": "execute_result",
          "data": {
            "text/plain": [
              "<matplotlib.legend.Legend at 0x7ff9043cc978>"
            ]
          },
          "metadata": {
            "tags": []
          },
          "execution_count": 37
        },
        {
          "output_type": "display_data",
          "data": {
            "image/png": "[encoded data removed]",
            "text/plain": [
              "<Figure size 576x396 with 1 Axes>"
            ]
          },
          "metadata": {
            "tags": []
          }
        }
      ]
    },
    {
      "metadata": {
        "id": "5Vc-3OUe3zrN",
        "colab_type": "code",
        "colab": {}
      },
      "cell_type": "code",
      "source": [
        "def classifierPredict(theta,X):\n",
        "    predictions = X.dot(theta)\n",
        "    \n",
        "    return predictions>0"
      ],
      "execution_count": 0,
      "outputs": []
    },
    {
      "metadata": {
        "id": "JadHagTm4RGY",
        "colab_type": "code",
        "colab": {
          "base_uri": "https://localhost:8080/",
          "height": 34
        },
        "outputId": "39be5ce4-ca69-4276-c2cd-1f168b2dd114"
      },
      "cell_type": "code",
      "source": [
        "\n",
        "p=classifierPredict(theta,X)\n",
        "print(\"Train Accuracy:\", (sum(p==y[:,np.newaxis])/len(y) *100)[0],\"%\")"
      ],
      "execution_count": 39,
      "outputs": [
        {
          "output_type": "stream",
          "text": [
            "Train Accuracy: 83.05084745762711 %\n"
          ],
          "name": "stdout"
        }
      ]
    },
    {
      "metadata": {
        "id": "JBi8TeGh4R1i",
        "colab_type": "code",
        "colab": {}
      },
      "cell_type": "code",
      "source": [
        "#Lasso Regression\n"
      ],
      "execution_count": 0,
      "outputs": []
    },
    {
      "metadata": {
        "id": "0PkWlkGi4qNm",
        "colab_type": "code",
        "colab": {
          "base_uri": "https://localhost:8080/",
          "height": 564
        },
        "outputId": "df90c548-e578-49e6-edd1-14204df98d5e"
      },
      "cell_type": "code",
      "source": [
        "from sklearn.linear_model import LogisticRegression\n",
        "clf = LogisticRegression(penalty=\"l1\")\n",
        "clf.fit(X,y)\n",
        "thetaLasso=clf.coef_\n",
        "print(\"The regularized theta using lasso regression:\\n\",thetaLasso.reshape(28,1))"
      ],
      "execution_count": 40,
      "outputs": [
        {
          "output_type": "stream",
          "text": [
            "The regularized theta using lasso regression:\n",
            " [[ 1.00208898]\n",
            " [ 0.68681243]\n",
            " [ 1.28057626]\n",
            " [-4.86305806]\n",
            " [-1.62207665]\n",
            " [-2.34585591]\n",
            " [ 0.        ]\n",
            " [ 0.        ]\n",
            " [ 0.        ]\n",
            " [ 0.        ]\n",
            " [ 0.        ]\n",
            " [ 0.        ]\n",
            " [ 0.        ]\n",
            " [ 0.        ]\n",
            " [-2.36396765]\n",
            " [ 0.        ]\n",
            " [ 0.        ]\n",
            " [ 0.        ]\n",
            " [ 0.        ]\n",
            " [ 0.        ]\n",
            " [ 0.        ]\n",
            " [ 0.        ]\n",
            " [ 0.        ]\n",
            " [ 0.        ]\n",
            " [ 0.        ]\n",
            " [ 0.        ]\n",
            " [ 0.        ]\n",
            " [ 0.        ]]\n"
          ],
          "name": "stdout"
        },
        {
          "output_type": "stream",
          "text": [
            "/usr/local/lib/python3.6/dist-packages/sklearn/linear_model/logistic.py:433: FutureWarning: Default solver will be changed to 'lbfgs' in 0.22. Specify a solver to silence this warning.\n",
            "  FutureWarning)\n"
          ],
          "name": "stderr"
        }
      ]
    },
    {
      "metadata": {
        "id": "sedsAvui4rRS",
        "colab_type": "code",
        "colab": {}
      },
      "cell_type": "code",
      "source": [
        ""
      ],
      "execution_count": 0,
      "outputs": []
    }
  ]
}