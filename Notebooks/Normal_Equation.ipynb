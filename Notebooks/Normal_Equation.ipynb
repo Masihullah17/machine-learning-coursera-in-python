{
  "nbformat": 4,
  "nbformat_minor": 0,
  "metadata": {
    "colab": {
      "name": "Normal_Equation.ipynb",
      "version": "0.3.2",
      "provenance": [],
      "collapsed_sections": []
    },
    "kernelspec": {
      "name": "python3",
      "display_name": "Python 3"
    },
    "accelerator": "GPU"
  },
  "cells": [
    {
      "metadata": {
        "id": "jwi0c6XYYPu2",
        "colab_type": "code",
        "colab": {}
      },
      "cell_type": "code",
      "source": [
        "import numpy as np\n",
        "import matplotlib.pyplot as plt\n",
        "import pandas as pd\n",
        "from mpl_toolkits.mplot3d import Axes3D"
      ],
      "execution_count": 0,
      "outputs": []
    },
    {
      "metadata": {
        "id": "TpzYQS7eY6sF",
        "colab_type": "code",
        "colab": {}
      },
      "cell_type": "code",
      "source": [
        "def NormalEqn(X,y):\n",
        "  theta = np.zeros((len(X),1))\n",
        "  theta = np.dot(np.dot(np.linalg.inv(np.dot(X.transpose(),X)) , X.transpose()), y)\n",
        "  \n",
        "  return theta"
      ],
      "execution_count": 0,
      "outputs": []
    },
    {
      "metadata": {
        "id": "y-eCDoRBZ26P",
        "colab_type": "code",
        "colab": {}
      },
      "cell_type": "code",
      "source": [
        "data = pd.read_csv('ex1data2.txt',header=None)"
      ],
      "execution_count": 0,
      "outputs": []
    },
    {
      "metadata": {
        "id": "xyZKnKiUaFad",
        "colab_type": "code",
        "colab": {}
      },
      "cell_type": "code",
      "source": [
        "data_n = data.values\n",
        "m2 = len(data_n[:,-1])\n",
        "X2 = data_n[:,0:2].reshape(m2,2)\n",
        "X2 = np.append(np.ones((m2,1)),X2,axis=1)\n",
        "y2=data_n[:,-1].reshape(m2,1)"
      ],
      "execution_count": 0,
      "outputs": []
    },
    {
      "metadata": {
        "id": "p5GqyCdfaYxW",
        "colab_type": "code",
        "colab": {}
      },
      "cell_type": "code",
      "source": [
        "theta = NormalEqn(X2,y2)"
      ],
      "execution_count": 0,
      "outputs": []
    },
    {
      "metadata": {
        "id": "realnQiHac90",
        "colab_type": "code",
        "colab": {
          "base_uri": "https://localhost:8080/",
          "height": 68
        },
        "outputId": "7c3487cc-fb0b-43b4-e337-964308a30493"
      },
      "cell_type": "code",
      "source": [
        "theta"
      ],
      "execution_count": 37,
      "outputs": [
        {
          "output_type": "execute_result",
          "data": {
            "text/plain": [
              "array([[89597.9095428 ],\n",
              "       [  139.21067402],\n",
              "       [-8738.01911233]])"
            ]
          },
          "metadata": {
            "tags": []
          },
          "execution_count": 37
        }
      ]
    },
    {
      "metadata": {
        "id": "k5ne3ORib2Lp",
        "colab_type": "code",
        "colab": {}
      },
      "cell_type": "code",
      "source": [
        "def predict(X,theta):\n",
        "  predictions = np.dot(theta.transpose(),X)\n",
        "  \n",
        "  return predictions[0]"
      ],
      "execution_count": 0,
      "outputs": []
    },
    {
      "metadata": {
        "id": "o1Aim2ARdSw6",
        "colab_type": "code",
        "colab": {
          "base_uri": "https://localhost:8080/",
          "height": 34
        },
        "outputId": "04e8b63b-fcc3-4f47-ca75-136fd25fd1a8"
      },
      "cell_type": "code",
      "source": [
        "x_sample = np.array([1650,3])\n",
        "x_sample=np.append(np.ones(1),x_sample)\n",
        "predict3=predict(x_sample,theta)\n",
        "print(\"For size of house = 1650, Number of bedroom = 3, we predict a house value of $\"+str(round(predict3,0)))"
      ],
      "execution_count": 38,
      "outputs": [
        {
          "output_type": "stream",
          "text": [
            "For size of house = 1650, Number of bedroom = 3, we predict a house value of $293081.0\n"
          ],
          "name": "stdout"
        }
      ]
    },
    {
      "metadata": {
        "id": "H5PC0zGVdmXI",
        "colab_type": "code",
        "colab": {}
      },
      "cell_type": "code",
      "source": [
        ""
      ],
      "execution_count": 0,
      "outputs": []
    }
  ]
}